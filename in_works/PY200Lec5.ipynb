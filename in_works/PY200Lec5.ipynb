#%% md
### Функтор
#%%
class Parabola:
    def __init__(self, a, b, c):
        self.a = a
        self.b = b
        self.c = c
        
    def __call__(self, x):
        return self.a*x**2+self.b*x+self.c
    
parabola = Parabola(1, 2, 4)
print(parabola(2))

parabola.b = 10
print(parabola(2))


# def get_parabola(a, b, c):
#     def f(x):
#         return a*x**2+b*x+c
#     return f

# parabola = get_parabola(1, 2, 4)
# print(parabola(2))
#%%
with open('E:/py200Lec5/alex2', 'w', encoding='utf-8') as f:
    f.write('hello, alex')    
#%% md
### Менеджер контекста
#%%
class ManyFiles:
    def __init__(self, *filenames):
        self.__filenames = filenames
        self.__files = []
        self.__opened = False
                
    def __enter__(self):
        self.open()        
        return self
        
    def __exit__(self, exc_type, exc_value, traceback):
        self.close()
    
    def open(self):
        self.__files = []
        for filename in self.__filenames:
            self.__files.append(open(filename, 'w', encoding='utf-8'))
        self.__opened = True        
    
    def close(self):
        for f in self.__files:
            f.close()
        f = []
        self.__opened = False
        
    def write(self, text):
        if not self.__opened:
            return
        
        for i, f in enumerate(self.__files):
            f.write(f'{i}: {text}')
#%%
PATH = 'E:/py200Lec5/'
many_files = ManyFiles(*(f'{PATH}alex2.txt', f'{PATH}python3.txt'))
many_files.open()
many_files.write('OK2')
many_files.close()

# withManyFiles(*(f'{PATH}alex.txt', f'{PATH}python.txt')) as f:
#     f.write('OK')
#     print('FINISH')
#%% md
### Перегрузка пользовательских исключений
#%%
class MyException(Exception):
    def __init__(self, message, a):
        super().__init__(message) # Вызов конструктора родителя
        self.a = a                # Пользовательские данные        
#%%
# Пример использования
try:
    a = 10
    if a > 5:
        raise MyException('a > 5', a)
except MyException as e:
    print(f'Стандартное сообщение: {e}')
    print(f'Пользовательские данные: {e.a}')
#%% md
### Обращение по индексу


#### __getitem__(self, key) - доступ по индексу (или ключу).
#### __setitem__(self, key, value) - назначение элемента по индексу.
#### __delitem__(self, key) - удаление элемента по индексу.
#%%
class GetItems:        
    def __getitem__(self, key): #  доступ по индексу (или ключу).
        print(type(key), key)
#%%
items = GetItems()
#%%
items[0] # Обращение по индексу
items[1] # Обращение по индексу
items[2] # Обращение по индексу
#%%
items[0:2]  # Срез c изветсным началом и концом
items[:3]   # Срез с начала контейнера до 3 элемента
items[2:]   # Срез с 2 элемента до конца

items[0:20:5]  # Срез c изветсным началом и концом с определённым шагом
items[:3:2]    # Срез с начала контейнера до 3 элемента с определённым шагом
items[2::3]   #  Срез с 2 элемента до конца c определённым шагом
#%%
class GetItemsPrint:        
    def __getitem__(self, key):
        if isinstance(key, slice):
            print('start', key.start)
            print('stop',  key.stop)
            print('step',  key.step)
            return
        print(key)
#%%
items = GetItemsPrint()

items[5]    # Срез c изветсным началом и концом
items[0:2]  # Срез c изветсным началом и концом
items[:3]   # Срез с начала контейнера до 3 элемента
items[2:]   # Срез с 2 элемента до конца

items[0:20:5]  # Срез c изветсным началом и концом с определённым шагом
items[:3:2]    # Срез с начала контейнера до 3 элемента с определённым шагом
items[2::3]   #  Срез с 2 элемента до конца c определённым шагом
#%%
class C:
    def __init__(self):
        self.a = 10
        self.b = 20
        self.c = 30
        self.d = 40
        self.e = 50
        self.f = 60
        
    def __getitem__(self, key):
        if isinstance(key, int):
            if 0 == key or -6 == key:
                return self.a
            if 1 == key or -5 == key:
                return self.b
            if 2 == key or -4 == key:
                return self.c
            if 3 == key or -3 == key:
                return self.d
            if 4 == key or -2 == key:
                return self.e
            if 5 == key or -1 == key:
                return self.f
            raise IndexError('Index must be between 0 - 5')
        
c = C()
c[-2]
#%%
class String:
    def __init__(self, s):
        if isinstance(s, String):
            s = s.__l
        self.__l = list(s)
        
    def __str__(self):
        return "".join(self.__l)
    
    def __repr__(self):
        return f'String("{str(self)}")'
    
    def __add__(self, other):
        return String(String(self).__l + String(other).__l)
    
    def __iadd__(self, other):
        self.__l += String(other).__l
        return self
#%%
s1 = String('python')
#%%
s2 = String('3')
#%%
s3 = s1 + s2

isinstance(s3, String)
#%%
s1 = String('python')
s1 += ' alex'
s1
s1 += [' ', '1', '2']
s1
#%%
class SetItems:
    def __setitem__(self, key, value): # назначение элемента по индексу.
        print(type(key), key, value)
#%%
items = SetItems()
items[3:2] = [1, 2, 4]
#%% md
### Получение длины объекта
#%%
class ExLen:
    def __len__(self):
        return 50
#%%
print(len(ExLen()))
#%% md
### Проверка на принадлежность элемента контейнеру
#%%
class MyContainer:
    def __contains__(self, item):
        if item == 'alex':
            return True
        if item == 'python':
            return True
        return False
#%%
c = MyContainer()

if 'alex' in c:
    print('OK')
    
if 'python' in c:
    print('OK')
    
if 'hello' in c:
    print('OK')
#%%
### 

# RGBA
class Color:
    def __init__(self, red=0, green=0, blue=0, a=0):
        if red > 255:
            red = 255
        if red < 0 :
            red = 0
        if green > 255:
            green = 255
        if green < 0 :
            green = 0
        if blue > 255:
            blue = 255
        if blue < 0 :
            blue = 0
        self.red = red
        self.green = green
        self.blue = blue
        
    @staticmethod    
    def is_valid(red, green, blue, a):
        pass
    
    
    def __add__(self, other):
        print(self, other)
        return Color(self.red+other.red,
                     self.green+other.green,
                     self.blue+other.blue)

    def __sub__(self, other):
        print(self, other)
        return Color(self.red-other.red,
                     self.green-other.green,
                     self.blue-other.blue)
    
    def __int__(self):
        return self.red << 16 | self.green << 8 | self.blue
    
    def __and__(self, other):
        return Color(self.red   & other.red,
                     self.green & other.green,
                     self.blue  & other.blue)
    
    def __or__(self, other):
        return Color(self.red   | other.red,
                     self.green | other.green,
                     self.blue  | other.blue)
    
    def __repr__(self):
        return f'Color({self.red!r}, {self.green!r}, {self.blue!r})'
        
color1 = Color(1, 2, 3)
color2 = Color(3, 4, 5)

color3 = color1 + color2 # color1.__add__(color2) -> Color

color3
#%%
color1.__add__(color2)
#%%
color4 = ((Color(1, 2, 3) + Color(3, 4, 5)) - Color(10))
#%%
hex(int(Color(255)))
#%%
hex(int(Color(0, 255)))
#%%
hex(int(Color(0, 0, 255)))
#%%
a = 0xAF

print(bin(a))
print(hex(a))
print(bin(a << 8))
print(bin(a << 16))
#%%
a = 15
b = 25
c = 105
#%%
d = a << 16 | b << 8 | c
#%%
hex(d)
#%%
hex(a) + hex(b).split('x')[1] + hex(c).split('x')[1]
#%%
(d >> 16) & 0xFF
#%%
(d >> 8) & 0xFF
#%%
c & 0xFF
#%%
a = 0
a |= 1 << 12
#%%
bin(a)
#%%
a = 1
for i in range(1, 8):
    a ^= 1 << (i-1)
    a ^= 1 << i
    print(bin(a))
#%%
a = 0
a |= 1 << 8
a |= 1 << 5
a |= 1 << 0
print(bin(a))
a &= ~(1 << 5)
print(bin(a))
#%%
class Glass:
    def __init__(self, occupied_volume, capacity_volume):
        self.occupied_volume = occupied_volume
        self.capacity_volume = capacity_volume
    
    def __lt__(self, other): # <
        return self.occupied_volume < other.occupied_volume
    
    def __gt__(self, other): # >
        return self.occupied_volume > other.occupied_volume
    
    def __le__(self, other): # <=
        return not self.__gt__(other)
    
    def __ge__(self, other): # >=
        return not self.__lt__(other)
    
    def __eq__(self, other): # ==
        return self.occupied_volume == other.occupied_volume
    
    def __ne__(self, other): # !=
        return not self.__eq__(other)
#%%
Glass(30, 15) == Glass(30, 50)
#%%
import math

class Point:
    def __init__(self, x: int, y: int):
        self.__x = x
        self.__y = y
        
    def x(self):
        return self.__x
    
    def y(self):
        return self.__y 
    
    def __add__(self, other):        
        return Point(self.__x + other.__x, self.__y + other.__y)
    
    def __sub__(self, other):
        return Point(self.__x - other.__x, self.__y - other.__y)
    
    def __mul__(self, value):
        return Point(self.__x*value, self.__y*value)
    
    def __rmul__(self, value):
        return self * value
    
    @staticmethod
    def distance(p1, p2=None):
        if p2 is None:
            p2 = Point(0, 0)
        return math.sqrt((p1.x()-p2.x())**2+(p1.y()-p2.y())**2)
    
    @staticmethod
    def center(p1, p2):
        return Point((p1.x()+p2.x())/2, (p1.y()+p2.y())/2)
    
    def __repr__(self):
        return f'Point({self.__x!r}, {self.__y!r})'
    
    def __eq__(self, other): # == 
        return self.__x == other.__x and self.__y == other.__y
    
    def __ne__(self: Point, other: Point) -> bool: # !=
        return not self == other
    
    @staticmethod
    def dot(p1: Point, p2: Point) -> float:
        return p1.__x*p2.__x + p1.__y*p2.__y
#%%
p1 = Point(2, 0)

p2 = Point(4, 10)
#%%
Point.center(p1, p2)
#%%
p1 + p2 - Point(2, 10)
#%%
p1*5
#%%
Point(10, 5) != Point(5, 5)
#%%
Point(10, 5) < Point(5, 5)
#%%

#%%

#%%
class Train:
    def __init__(self):
        self.l = [5, 2, 3, 4]
        
    def __iter__(self):
        return iter(self.l)
#%%
train = Train()
#%%
for i in train:
    print(i)
#%%
class Train:
    def __init__(self):
        self.a = 10
        self.b = 20
        self.c = 30
        self.d = 40
        self.e = 50
        self.f = 60
        self.__index = 0
        
    def __iter__(self):
        self.__index = 0
        return self

    def __next__(self):
        self.__index += 1
        if 1 == self.__index:
            return self.a
        if 2 == self.__index:
            return self.b
        raise StopIteration('')
#%%
for i in Train():
    print(i)
#%%
